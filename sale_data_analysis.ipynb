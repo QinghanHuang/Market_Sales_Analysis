{
 "cells": [
  {
   "cell_type": "code",
   "execution_count": 1,
   "id": "aadad866-7bdb-4eb6-aba0-bb36de996c25",
   "metadata": {},
   "outputs": [],
   "source": [
    "from pyspark.sql import SparkSession\n",
    "import pyspark.sql.functions as f\n",
    "%config IPCompleter.greedy=True"
   ]
  },
  {
   "cell_type": "code",
   "execution_count": 2,
   "id": "3a87d444-4791-4647-955a-21ef4d477137",
   "metadata": {},
   "outputs": [
    {
     "data": {
      "text/html": [
       "\n",
       "            <div>\n",
       "                <p><b>SparkSession - in-memory</b></p>\n",
       "                \n",
       "        <div>\n",
       "            <p><b>SparkContext</b></p>\n",
       "\n",
       "            <p><a href=\"http://fa5dbf17d9db:4040\">Spark UI</a></p>\n",
       "\n",
       "            <dl>\n",
       "              <dt>Version</dt>\n",
       "                <dd><code>v3.5.0</code></dd>\n",
       "              <dt>Master</dt>\n",
       "                <dd><code>local[*]</code></dd>\n",
       "              <dt>AppName</dt>\n",
       "                <dd><code>Python Spark</code></dd>\n",
       "            </dl>\n",
       "        </div>\n",
       "        \n",
       "            </div>\n",
       "        "
      ],
      "text/plain": [
       "<pyspark.sql.session.SparkSession at 0xffff79cbcf50>"
      ]
     },
     "execution_count": 2,
     "metadata": {},
     "output_type": "execute_result"
    }
   ],
   "source": [
    "spark = SparkSession.builder.appName(\"Python Spark\").master(\"local[*]\").getOrCreate()\n",
    "spark.conf.set(\"spark.sql.repl.eagerEval.enabled\", True)\n",
    "spark"
   ]
  },
  {
   "cell_type": "markdown",
   "id": "cfb71cc4-34d1-4b03-bc8e-f5ccc026d2b4",
   "metadata": {},
   "source": [
    "## 1. Read"
   ]
  },
  {
   "cell_type": "code",
   "execution_count": 3,
   "id": "8175cc1d-d322-45b7-bee2-50255fd352de",
   "metadata": {},
   "outputs": [
    {
     "data": {
      "text/html": [
       "<table border='1'>\n",
       "<tr><th>corporator</th><th>dateTS</th><th>dayOrderSeq</th><th>discount</th><th>discountRate</th><th>discountType</th><th>erase</th><th>faceID</th><th>isSigned</th><th>memberID</th><th>moneyBeforeWholeDiscount</th><th>operator</th><th>operatorName</th><th>orderID</th><th>origin</th><th>payStatus</th><th>payType</th><th>payedTotal</th><th>paymentChannel</th><th>paymentScenarios</th><th>product</th><th>productCount</th><th>receivable</th><th>serverSaved</th><th>smallChange</th><th>storeAddress</th><th>storeCategory</th><th>storeCity</th><th>storeCreateDateTS</th><th>storeDistrict</th><th>storeGPSAddress</th><th>storeGPSLatitude</th><th>storeGPSLongitude</th><th>storeGPSName</th><th>storeID</th><th>storeName</th><th>storeOwnUserId</th><th>storeOwnUserName</th><th>storeOwnUserTel</th><th>storeProvince</th><th>storeShopNo</th><th>storeStatus</th><th>totalNoDiscount</th></tr>\n",
       "<tr><td>hnzy</td><td>1563758583000</td><td>8</td><td>0.0</td><td>1</td><td>2</td><td>0.0</td><td></td><td>0</td><td>0</td><td>22.5</td><td>NameStr</td><td>OperatorName</td><td>15637585824094064...</td><td>0</td><td>-1</td><td>alipay</td><td>22.5</td><td>0</td><td>PASV</td><td>[{6940159410029, ...</td><td>4.0</td><td>22.5</td><td>true</td><td>0.0</td><td>StoreAddress</td><td>normal</td><td>长沙市</td><td>1557733046000</td><td>雨花区</td><td></td><td>28.121213726311993</td><td>113.01567856440359</td><td></td><td>4064</td><td>杨光峰南食店</td><td>4082</td><td>OwnUserNameStr</td><td>12345678910</td><td>湖南省</td><td>NULL</td><td>open</td><td>22.5</td></tr>\n",
       "<tr><td>NULL</td><td>1546737450000</td><td>6</td><td>0.0</td><td>1</td><td>2</td><td>0.0</td><td></td><td>1</td><td>0</td><td>7.0</td><td>NameStr</td><td>OperatorName</td><td>15467374316307186813</td><td>0</td><td>NULL</td><td>alipay</td><td>7.0</td><td>0</td><td>PASV</td><td>[{6901028191012, ...</td><td>1.0</td><td>7.0</td><td>NULL</td><td>0.0</td><td>StoreAddress</td><td>normal</td><td>长沙市</td><td>1534920455000</td><td>岳麓区</td><td>None</td><td>28.158909</td><td>112.95106</td><td>None</td><td>718</td><td>芙蓉兴盛汶强食品店</td><td>577</td><td>OwnUserNameStr</td><td>12345678910</td><td>湖南省</td><td>277551253310005</td><td>open</td><td>7.0</td></tr>\n",
       "<tr><td>NULL</td><td>1546478081000</td><td>26</td><td>0.0</td><td>1</td><td>2</td><td>0.0</td><td></td><td>0</td><td>0</td><td>10.0</td><td>NameStr</td><td>OperatorName</td><td>15464780808601786...</td><td>0</td><td>NULL</td><td>cash</td><td>10.0</td><td>0</td><td>OTHER</td><td>[{6901028000826, ...</td><td>1.0</td><td>10.0</td><td>NULL</td><td>0.0</td><td>StoreAddress</td><td>normal</td><td>长沙市</td><td>1540802164000</td><td>芙蓉区</td><td>None</td><td>28.198982</td><td>113.03312</td><td>None</td><td>1786</td><td>裕丰超市</td><td>1714</td><td>OwnUserNameStr</td><td>12345678910</td><td>湖南省</td><td>None</td><td>open</td><td>10.0</td></tr>\n",
       "<tr><td>hnzy</td><td>1559133703000</td><td>144</td><td>0.0</td><td>1</td><td>2</td><td>0.0</td><td></td><td>0</td><td>0</td><td>10.5</td><td>NameStr</td><td>OperatorName</td><td>15591337021343702...</td><td>0</td><td>-1</td><td>wechat</td><td>10.5</td><td>0</td><td>PASV</td><td>[{6970855690265, ...</td><td>2.0</td><td>10.5</td><td>true</td><td>0.0</td><td>StoreAddress</td><td>normal</td><td>深圳市</td><td>1552977317000</td><td>龙华区</td><td></td><td></td><td></td><td></td><td>3702</td><td>天福便利店</td><td>3692</td><td>OwnUserNameStr</td><td>12345678910</td><td>广东省</td><td>NULL</td><td>open</td><td>10.5</td></tr>\n",
       "<tr><td>NULL</td><td>1548594458000</td><td>57</td><td>0.0</td><td>1</td><td>2</td><td>0.0</td><td></td><td>0</td><td>0</td><td>10.0</td><td>NameStr</td><td>OperatorName</td><td>15485944578681156...</td><td>0</td><td>NULL</td><td>cash</td><td>10.0</td><td>0</td><td>OTHER</td><td>[{6901028010108, ...</td><td>1.0</td><td>10.0</td><td>NULL</td><td>0.0</td><td>StoreAddress</td><td>normal</td><td>桂林市</td><td>1537601490000</td><td>象山区</td><td>None</td><td>25.248390759610427</td><td>110.28186410665509</td><td>None</td><td>1156</td><td>吉顺食品自选商店</td><td>1040</td><td>OwnUserNameStr</td><td>12345678910</td><td>广西壮族自治区</td><td>None</td><td>open</td><td>10.0</td></tr>\n",
       "<tr><td>NULL</td><td>1548292824000</td><td>36</td><td>0.0</td><td>1</td><td>2</td><td>0.0</td><td></td><td>1</td><td>0</td><td>3.0</td><td>NameStr</td><td>OperatorName</td><td>15482928201153183933</td><td>0</td><td>NULL</td><td>wechat</td><td>3.0</td><td>1</td><td>PURC</td><td>[{4891028164395, ...</td><td>1.0</td><td>3.0</td><td>NULL</td><td>0.0</td><td>StoreAddress</td><td>normal</td><td>珠海市</td><td>1518114308000</td><td>香洲区</td><td>None</td><td>22.274088374908985</td><td>113.51813376850318</td><td>None</td><td>318</td><td>芙蓉兴盛3626</td><td>229</td><td>OwnUserNameStr</td><td>12345678910</td><td>广东省</td><td>277585253310024</td><td>open</td><td>3.0</td></tr>\n",
       "<tr><td>NULL</td><td>1545356344000</td><td>12</td><td>0.0</td><td>1</td><td>2</td><td>0.0</td><td></td><td>0</td><td>0</td><td>6.5</td><td>NameStr</td><td>OperatorName</td><td>15453563437071699...</td><td>0</td><td>NULL</td><td>cash</td><td>6.5</td><td>0</td><td>OTHER</td><td>[{6901028191012, ...</td><td>1.0</td><td>6.5</td><td>NULL</td><td>0.0</td><td>StoreAddress</td><td>normal</td><td>长沙市</td><td>1540530941000</td><td>芙蓉区</td><td>None</td><td>28.214493749156052</td><td>113.01619246602056</td><td>None</td><td>1699</td><td>亿户便利海欣食品店</td><td>1620</td><td>OwnUserNameStr</td><td>12345678910</td><td>湖南省</td><td>None</td><td>open</td><td>6.5</td></tr>\n",
       "<tr><td>NULL</td><td>1547284514000</td><td>111</td><td>0.0</td><td>1</td><td>2</td><td>0.0</td><td></td><td>0</td><td>0</td><td>17.0</td><td>NameStr</td><td>OperatorName</td><td>15472845025471167...</td><td>0</td><td>NULL</td><td>alipay</td><td>17.0</td><td>0</td><td>PASV</td><td>[{99999999-1, 1, ...</td><td>2.0</td><td>17.0</td><td>NULL</td><td>0.0</td><td>StoreAddress</td><td>normal</td><td>常德市</td><td>1537621831000</td><td>武陵区</td><td>None</td><td>29.05939118356865</td><td>111.68978109955786</td><td>None</td><td>1167</td><td>芙蓉兴盛子轩商行</td><td>1051</td><td>OwnUserNameStr</td><td>12345678910</td><td>湖南省</td><td>None</td><td>open</td><td>17.0</td></tr>\n",
       "<tr><td>hnzy</td><td>1563845059000</td><td>10</td><td>0.0</td><td>1</td><td>2</td><td>0.0</td><td></td><td>0</td><td>0</td><td>19.0</td><td>NameStr</td><td>OperatorName</td><td>15638450586263466...</td><td>0</td><td>-1</td><td>cash</td><td>19.0</td><td>0</td><td>OTHER</td><td>[{6932452818091, ...</td><td>2.0</td><td>19.0</td><td>true</td><td>0.0</td><td>StoreAddress</td><td>normal</td><td>长沙市</td><td>1547892928000</td><td>开福区</td><td></td><td>28.340324</td><td>112.99777</td><td></td><td>3466</td><td>芙蓉兴盛蔡兰食品店</td><td>3434</td><td>OwnUserNameStr</td><td>12345678910</td><td>湖南省</td><td>NULL</td><td>open</td><td>19.0</td></tr>\n",
       "<tr><td>hft</td><td>1557231358000</td><td>337</td><td>0.0</td><td>1</td><td>2</td><td>0.0</td><td></td><td>0</td><td>0</td><td>4.0</td><td>NameStr</td><td>OperatorName</td><td>15572313547723331851</td><td>0</td><td>NULL</td><td>wechat</td><td>4.0</td><td>0</td><td>PASV</td><td>[{6936455900067, ...</td><td>1.0</td><td>4.0</td><td>true</td><td>0.0</td><td>StoreAddress</td><td>normal</td><td>珠海市</td><td>1520206281000</td><td>香洲区</td><td></td><td>22.280635051859548</td><td>113.55951672652247</td><td></td><td>333</td><td>3A福利社</td><td>235</td><td>OwnUserNameStr</td><td>12345678910</td><td>广东省</td><td>227585253310046</td><td>open</td><td>4.0</td></tr>\n",
       "<tr><td>hnzy</td><td>1560692925000</td><td>47</td><td>0.0</td><td>1</td><td>2</td><td>0.0</td><td></td><td>0</td><td>0</td><td>22.0</td><td>NameStr</td><td>OperatorName</td><td>15606929244793354...</td><td>0</td><td>-1</td><td>cash</td><td>22.0</td><td>0</td><td>OTHER</td><td>[{6901028191043, ...</td><td>2.0</td><td>22.0</td><td>true</td><td>0.0</td><td>StoreAddress</td><td>normal</td><td>长沙市</td><td>1546940546000</td><td>岳麓区</td><td></td><td>28.14020117156302</td><td>112.9422938816664</td><td></td><td>3354</td><td>雅堂小超龙凌云食品店</td><td>3324</td><td>OwnUserNameStr</td><td>12345678910</td><td>湖南省</td><td>NULL</td><td>open</td><td>22.0</td></tr>\n",
       "<tr><td>NULL</td><td>1552019799000</td><td>3</td><td>0.0</td><td>1</td><td>2</td><td>0.0</td><td></td><td>0</td><td>0</td><td>19.0</td><td>NameStr</td><td>OperatorName</td><td>15520197990093367...</td><td>0</td><td>NULL</td><td>cash</td><td>19.0</td><td>0</td><td>OTHER</td><td>[{99999999-1, 1, ...</td><td>1.0</td><td>19.0</td><td>NULL</td><td>0.0</td><td>StoreAddress</td><td>normal</td><td>深圳市</td><td>1547023238000</td><td>龙华区</td><td>None</td><td>22.68867017558772</td><td>113.99223893880843</td><td>None</td><td>3367</td><td>58优品便利店</td><td>3337</td><td>OwnUserNameStr</td><td>12345678910</td><td>广东省</td><td>None</td><td>open</td><td>19.0</td></tr>\n",
       "<tr><td>hnzy</td><td>1563413959000</td><td>20</td><td>0.0</td><td>1</td><td>2</td><td>0.0</td><td></td><td>0</td><td>0</td><td>45.0</td><td>NameStr</td><td>OperatorName</td><td>15634139565318326739</td><td>0</td><td>-1</td><td>wechat</td><td>45.0</td><td>0</td><td>PASV</td><td>[{6940159410029, ...</td><td>4.0</td><td>45.0</td><td>true</td><td>0.0</td><td>StoreAddress</td><td>normal</td><td>株洲市</td><td>1535856054000</td><td>石峰区</td><td></td><td>27.88922284307604</td><td>113.0943855643273</td><td></td><td>832</td><td>四季春商店</td><td>690</td><td>OwnUserNameStr</td><td>12345678910</td><td>湖南省</td><td>NULL</td><td>open</td><td>45.0</td></tr>\n",
       "<tr><td>hnzy</td><td>1565683992000</td><td>46</td><td>0.0</td><td>1</td><td>2</td><td>0.0</td><td></td><td>1</td><td>0</td><td>6.0</td><td>NameStr</td><td>OperatorName</td><td>15656839914979495195</td><td>0</td><td>-1</td><td>cash</td><td>6.0</td><td>0</td><td>OTHER</td><td>[{6926617930049, ...</td><td>1.0</td><td>6.0</td><td>true</td><td>0.0</td><td>StoreAddress</td><td>normal</td><td>长沙市</td><td>1536655716000</td><td>开福区</td><td></td><td>28.211737</td><td>112.97533</td><td></td><td>949</td><td>天猫小超(英桥便利店)</td><td>809</td><td>OwnUserNameStr</td><td>12345678910</td><td>湖南省</td><td>277551753310007</td><td>open</td><td>6.0</td></tr>\n",
       "<tr><td>hnzy</td><td>1561301033000</td><td>200</td><td>1.5</td><td>-1</td><td>4</td><td>0.0</td><td></td><td>1</td><td>0</td><td>24.0</td><td>NameStr</td><td>OperatorName</td><td>15613010284574213...</td><td>0</td><td>-1</td><td>cash</td><td>22.5</td><td>0</td><td>OTHER</td><td>[{6920202888883, ...</td><td>2.0</td><td>22.5</td><td>true</td><td>0.0</td><td>StoreAddress</td><td>normal</td><td>深圳市</td><td>1558930437000</td><td>宝安区</td><td></td><td>22.630766</td><td>114.014565</td><td></td><td>4213</td><td>云兜便利店</td><td>4250</td><td>OwnUserNameStr</td><td>12345678910</td><td>广东省</td><td>277584553310040</td><td>open</td><td>24.0</td></tr>\n",
       "<tr><td>hnzy</td><td>1563104184000</td><td>209</td><td>0.0</td><td>1</td><td>2</td><td>0.0</td><td></td><td>0</td><td>0</td><td>6.0</td><td>NameStr</td><td>OperatorName</td><td>15631041835503487...</td><td>0</td><td>-1</td><td>cash</td><td>6.0</td><td>0</td><td>OTHER</td><td>[{6954432710249, ...</td><td>1.0</td><td>6.0</td><td>true</td><td>0.0</td><td>StoreAddress</td><td>normal</td><td>深圳市</td><td>1548392420000</td><td>龙华区</td><td></td><td>22.669731307672212</td><td>114.03267357993454</td><td></td><td>3487</td><td>友淇便利店（富联店）</td><td>3456</td><td>OwnUserNameStr</td><td>12345678910</td><td>广东省</td><td>NULL</td><td>open</td><td>6.0</td></tr>\n",
       "<tr><td>hnzy</td><td>1557558714000</td><td>1</td><td>0.0</td><td>1</td><td>2</td><td>0.0</td><td></td><td>0</td><td>0</td><td>900.0</td><td>NameStr</td><td>OperatorName</td><td>15575587133592583...</td><td>0</td><td>NULL</td><td>cash</td><td>900.0</td><td>0</td><td>OTHER</td><td>[{6901028075015, ...</td><td>1.0</td><td>900.0</td><td>true</td><td>0.0</td><td>StoreAddress</td><td>normal</td><td>长沙市</td><td>1542779631000</td><td>天心区</td><td></td><td></td><td></td><td></td><td>2583</td><td>保富烟酒店</td><td>2534</td><td>OwnUserNameStr</td><td>12345678910</td><td>湖南省</td><td>NULL</td><td>open</td><td>900.0</td></tr>\n",
       "<tr><td>NULL</td><td>1552703028000</td><td>92</td><td>0.0</td><td>1</td><td>2</td><td>0.0</td><td></td><td>0</td><td>0</td><td>215.0</td><td>NameStr</td><td>OperatorName</td><td>15527030281543561...</td><td>0</td><td>NULL</td><td>cash</td><td>215.0</td><td>0</td><td>OTHER</td><td>[{6901028316866, ...</td><td>1.0</td><td>215.0</td><td>NULL</td><td>0.0</td><td>StoreAddress</td><td>normal</td><td>深圳市</td><td>1551762981000</td><td>福田区</td><td></td><td></td><td></td><td></td><td>3561</td><td>新安喜乐惠（友捷）</td><td>3541</td><td>OwnUserNameStr</td><td>12345678910</td><td>广东省</td><td>NULL</td><td>open</td><td>215.0</td></tr>\n",
       "<tr><td>hnzy</td><td>1560845929000</td><td>15</td><td>0.0</td><td>1</td><td>2</td><td>0.0</td><td></td><td>0</td><td>0</td><td>15.0</td><td>NameStr</td><td>OperatorName</td><td>15608459283601975...</td><td>0</td><td>-1</td><td>cash</td><td>15.0</td><td>0</td><td>OTHER</td><td>[{6931273213559, ...</td><td>1.0</td><td>15.0</td><td>true</td><td>0.0</td><td>StoreAddress</td><td>normal</td><td>长沙市</td><td>1541145961000</td><td>芙蓉区</td><td></td><td>28.201408</td><td>113.03765</td><td></td><td>1975</td><td>鼎亨烟酒</td><td>1913</td><td>OwnUserNameStr</td><td>12345678910</td><td>湖南省</td><td>NULL</td><td>open</td><td>15.0</td></tr>\n",
       "<tr><td>NULL</td><td>1542464496000</td><td>283</td><td>0.0</td><td>1</td><td>2</td><td>0.0</td><td></td><td>1</td><td>0</td><td>72.0</td><td>NameStr</td><td>OperatorName</td><td>15424644956013899408</td><td>0</td><td>NULL</td><td>cash</td><td>72.0</td><td>0</td><td>OTHER</td><td>[{7622100916345, ...</td><td>1.0</td><td>72.0</td><td>NULL</td><td>0.0</td><td>StoreAddress</td><td>normal</td><td>珠海市</td><td>1522260134000</td><td>香洲区</td><td>None</td><td>22.219455067668832</td><td>113.53829251118407</td><td>None</td><td>389</td><td>日日佳超市</td><td>285</td><td>OwnUserNameStr</td><td>12345678910</td><td>广东省</td><td>277585253310012</td><td>open</td><td>72.0</td></tr>\n",
       "</table>\n",
       "only showing top 20 rows\n"
      ],
      "text/plain": [
       "+----------+-------------+-----------+--------+------------+------------+-----+------+--------+--------+------------------------+--------+------------+--------------------+------+---------+-------+----------+--------------+----------------+--------------------+------------+----------+-----------+-----------+------------+-------------+---------+-----------------+-------------+---------------+------------------+------------------+------------+-------+--------------------+--------------+----------------+---------------+--------------+---------------+-----------+---------------+\n",
       "|corporator|       dateTS|dayOrderSeq|discount|discountRate|discountType|erase|faceID|isSigned|memberID|moneyBeforeWholeDiscount|operator|operatorName|             orderID|origin|payStatus|payType|payedTotal|paymentChannel|paymentScenarios|             product|productCount|receivable|serverSaved|smallChange|storeAddress|storeCategory|storeCity|storeCreateDateTS|storeDistrict|storeGPSAddress|  storeGPSLatitude| storeGPSLongitude|storeGPSName|storeID|           storeName|storeOwnUserId|storeOwnUserName|storeOwnUserTel| storeProvince|    storeShopNo|storeStatus|totalNoDiscount|\n",
       "+----------+-------------+-----------+--------+------------+------------+-----+------+--------+--------+------------------------+--------+------------+--------------------+------+---------+-------+----------+--------------+----------------+--------------------+------------+----------+-----------+-----------+------------+-------------+---------+-----------------+-------------+---------------+------------------+------------------+------------+-------+--------------------+--------------+----------------+---------------+--------------+---------------+-----------+---------------+\n",
       "|      hnzy|1563758583000|          8|     0.0|           1|           2|  0.0|      |       0|       0|                    22.5| NameStr|OperatorName|15637585824094064...|     0|       -1| alipay|      22.5|             0|            PASV|[{6940159410029, ...|         4.0|      22.5|       true|        0.0|StoreAddress|       normal|   长沙市|    1557733046000|       雨花区|               |28.121213726311993|113.01567856440359|            |   4064|        杨光峰南食店|          4082|  OwnUserNameStr|    12345678910|        湖南省|           NULL|       open|           22.5|\n",
       "|      NULL|1546737450000|          6|     0.0|           1|           2|  0.0|      |       1|       0|                     7.0| NameStr|OperatorName|15467374316307186813|     0|     NULL| alipay|       7.0|             0|            PASV|[{6901028191012, ...|         1.0|       7.0|       NULL|        0.0|StoreAddress|       normal|   长沙市|    1534920455000|       岳麓区|           None|         28.158909|         112.95106|        None|    718|  芙蓉兴盛汶强食品店|           577|  OwnUserNameStr|    12345678910|        湖南省|277551253310005|       open|            7.0|\n",
       "|      NULL|1546478081000|         26|     0.0|           1|           2|  0.0|      |       0|       0|                    10.0| NameStr|OperatorName|15464780808601786...|     0|     NULL|   cash|      10.0|             0|           OTHER|[{6901028000826, ...|         1.0|      10.0|       NULL|        0.0|StoreAddress|       normal|   长沙市|    1540802164000|       芙蓉区|           None|         28.198982|         113.03312|        None|   1786|            裕丰超市|          1714|  OwnUserNameStr|    12345678910|        湖南省|           None|       open|           10.0|\n",
       "|      hnzy|1559133703000|        144|     0.0|           1|           2|  0.0|      |       0|       0|                    10.5| NameStr|OperatorName|15591337021343702...|     0|       -1| wechat|      10.5|             0|            PASV|[{6970855690265, ...|         2.0|      10.5|       true|        0.0|StoreAddress|       normal|   深圳市|    1552977317000|       龙华区|               |                  |                  |            |   3702|          天福便利店|          3692|  OwnUserNameStr|    12345678910|        广东省|           NULL|       open|           10.5|\n",
       "|      NULL|1548594458000|         57|     0.0|           1|           2|  0.0|      |       0|       0|                    10.0| NameStr|OperatorName|15485944578681156...|     0|     NULL|   cash|      10.0|             0|           OTHER|[{6901028010108, ...|         1.0|      10.0|       NULL|        0.0|StoreAddress|       normal|   桂林市|    1537601490000|       象山区|           None|25.248390759610427|110.28186410665509|        None|   1156|    吉顺食品自选商店|          1040|  OwnUserNameStr|    12345678910|广西壮族自治区|           None|       open|           10.0|\n",
       "|      NULL|1548292824000|         36|     0.0|           1|           2|  0.0|      |       1|       0|                     3.0| NameStr|OperatorName|15482928201153183933|     0|     NULL| wechat|       3.0|             1|            PURC|[{4891028164395, ...|         1.0|       3.0|       NULL|        0.0|StoreAddress|       normal|   珠海市|    1518114308000|       香洲区|           None|22.274088374908985|113.51813376850318|        None|    318|        芙蓉兴盛3626|           229|  OwnUserNameStr|    12345678910|        广东省|277585253310024|       open|            3.0|\n",
       "|      NULL|1545356344000|         12|     0.0|           1|           2|  0.0|      |       0|       0|                     6.5| NameStr|OperatorName|15453563437071699...|     0|     NULL|   cash|       6.5|             0|           OTHER|[{6901028191012, ...|         1.0|       6.5|       NULL|        0.0|StoreAddress|       normal|   长沙市|    1540530941000|       芙蓉区|           None|28.214493749156052|113.01619246602056|        None|   1699|  亿户便利海欣食品店|          1620|  OwnUserNameStr|    12345678910|        湖南省|           None|       open|            6.5|\n",
       "|      NULL|1547284514000|        111|     0.0|           1|           2|  0.0|      |       0|       0|                    17.0| NameStr|OperatorName|15472845025471167...|     0|     NULL| alipay|      17.0|             0|            PASV|[{99999999-1, 1, ...|         2.0|      17.0|       NULL|        0.0|StoreAddress|       normal|   常德市|    1537621831000|       武陵区|           None| 29.05939118356865|111.68978109955786|        None|   1167|    芙蓉兴盛子轩商行|          1051|  OwnUserNameStr|    12345678910|        湖南省|           None|       open|           17.0|\n",
       "|      hnzy|1563845059000|         10|     0.0|           1|           2|  0.0|      |       0|       0|                    19.0| NameStr|OperatorName|15638450586263466...|     0|       -1|   cash|      19.0|             0|           OTHER|[{6932452818091, ...|         2.0|      19.0|       true|        0.0|StoreAddress|       normal|   长沙市|    1547892928000|       开福区|               |         28.340324|         112.99777|            |   3466|  芙蓉兴盛蔡兰食品店|          3434|  OwnUserNameStr|    12345678910|        湖南省|           NULL|       open|           19.0|\n",
       "|       hft|1557231358000|        337|     0.0|           1|           2|  0.0|      |       0|       0|                     4.0| NameStr|OperatorName|15572313547723331851|     0|     NULL| wechat|       4.0|             0|            PASV|[{6936455900067, ...|         1.0|       4.0|       true|        0.0|StoreAddress|       normal|   珠海市|    1520206281000|       香洲区|               |22.280635051859548|113.55951672652247|            |    333|            3A福利社|           235|  OwnUserNameStr|    12345678910|        广东省|227585253310046|       open|            4.0|\n",
       "|      hnzy|1560692925000|         47|     0.0|           1|           2|  0.0|      |       0|       0|                    22.0| NameStr|OperatorName|15606929244793354...|     0|       -1|   cash|      22.0|             0|           OTHER|[{6901028191043, ...|         2.0|      22.0|       true|        0.0|StoreAddress|       normal|   长沙市|    1546940546000|       岳麓区|               | 28.14020117156302| 112.9422938816664|            |   3354|雅堂小超龙凌云食品店|          3324|  OwnUserNameStr|    12345678910|        湖南省|           NULL|       open|           22.0|\n",
       "|      NULL|1552019799000|          3|     0.0|           1|           2|  0.0|      |       0|       0|                    19.0| NameStr|OperatorName|15520197990093367...|     0|     NULL|   cash|      19.0|             0|           OTHER|[{99999999-1, 1, ...|         1.0|      19.0|       NULL|        0.0|StoreAddress|       normal|   深圳市|    1547023238000|       龙华区|           None| 22.68867017558772|113.99223893880843|        None|   3367|        58优品便利店|          3337|  OwnUserNameStr|    12345678910|        广东省|           None|       open|           19.0|\n",
       "|      hnzy|1563413959000|         20|     0.0|           1|           2|  0.0|      |       0|       0|                    45.0| NameStr|OperatorName|15634139565318326739|     0|       -1| wechat|      45.0|             0|            PASV|[{6940159410029, ...|         4.0|      45.0|       true|        0.0|StoreAddress|       normal|   株洲市|    1535856054000|       石峰区|               | 27.88922284307604| 113.0943855643273|            |    832|          四季春商店|           690|  OwnUserNameStr|    12345678910|        湖南省|           NULL|       open|           45.0|\n",
       "|      hnzy|1565683992000|         46|     0.0|           1|           2|  0.0|      |       1|       0|                     6.0| NameStr|OperatorName|15656839914979495195|     0|       -1|   cash|       6.0|             0|           OTHER|[{6926617930049, ...|         1.0|       6.0|       true|        0.0|StoreAddress|       normal|   长沙市|    1536655716000|       开福区|               |         28.211737|         112.97533|            |    949|天猫小超(英桥便利店)|           809|  OwnUserNameStr|    12345678910|        湖南省|277551753310007|       open|            6.0|\n",
       "|      hnzy|1561301033000|        200|     1.5|          -1|           4|  0.0|      |       1|       0|                    24.0| NameStr|OperatorName|15613010284574213...|     0|       -1|   cash|      22.5|             0|           OTHER|[{6920202888883, ...|         2.0|      22.5|       true|        0.0|StoreAddress|       normal|   深圳市|    1558930437000|       宝安区|               |         22.630766|        114.014565|            |   4213|          云兜便利店|          4250|  OwnUserNameStr|    12345678910|        广东省|277584553310040|       open|           24.0|\n",
       "|      hnzy|1563104184000|        209|     0.0|           1|           2|  0.0|      |       0|       0|                     6.0| NameStr|OperatorName|15631041835503487...|     0|       -1|   cash|       6.0|             0|           OTHER|[{6954432710249, ...|         1.0|       6.0|       true|        0.0|StoreAddress|       normal|   深圳市|    1548392420000|       龙华区|               |22.669731307672212|114.03267357993454|            |   3487|友淇便利店（富联店）|          3456|  OwnUserNameStr|    12345678910|        广东省|           NULL|       open|            6.0|\n",
       "|      hnzy|1557558714000|          1|     0.0|           1|           2|  0.0|      |       0|       0|                   900.0| NameStr|OperatorName|15575587133592583...|     0|     NULL|   cash|     900.0|             0|           OTHER|[{6901028075015, ...|         1.0|     900.0|       true|        0.0|StoreAddress|       normal|   长沙市|    1542779631000|       天心区|               |                  |                  |            |   2583|          保富烟酒店|          2534|  OwnUserNameStr|    12345678910|        湖南省|           NULL|       open|          900.0|\n",
       "|      NULL|1552703028000|         92|     0.0|           1|           2|  0.0|      |       0|       0|                   215.0| NameStr|OperatorName|15527030281543561...|     0|     NULL|   cash|     215.0|             0|           OTHER|[{6901028316866, ...|         1.0|     215.0|       NULL|        0.0|StoreAddress|       normal|   深圳市|    1551762981000|       福田区|               |                  |                  |            |   3561|  新安喜乐惠（友捷）|          3541|  OwnUserNameStr|    12345678910|        广东省|           NULL|       open|          215.0|\n",
       "|      hnzy|1560845929000|         15|     0.0|           1|           2|  0.0|      |       0|       0|                    15.0| NameStr|OperatorName|15608459283601975...|     0|       -1|   cash|      15.0|             0|           OTHER|[{6931273213559, ...|         1.0|      15.0|       true|        0.0|StoreAddress|       normal|   长沙市|    1541145961000|       芙蓉区|               |         28.201408|         113.03765|            |   1975|            鼎亨烟酒|          1913|  OwnUserNameStr|    12345678910|        湖南省|           NULL|       open|           15.0|\n",
       "|      NULL|1542464496000|        283|     0.0|           1|           2|  0.0|      |       1|       0|                    72.0| NameStr|OperatorName|15424644956013899408|     0|     NULL|   cash|      72.0|             0|           OTHER|[{7622100916345, ...|         1.0|      72.0|       NULL|        0.0|StoreAddress|       normal|   珠海市|    1522260134000|       香洲区|           None|22.219455067668832|113.53829251118407|        None|    389|          日日佳超市|           285|  OwnUserNameStr|    12345678910|        广东省|277585253310012|       open|           72.0|\n",
       "+----------+-------------+-----------+--------+------------+------------+-----+------+--------+--------+------------------------+--------+------------+--------------------+------+---------+-------+----------+--------------+----------------+--------------------+------------+----------+-----------+-----------+------------+-------------+---------+-----------------+-------------+---------------+------------------+------------------+------------+-------+--------------------+--------------+----------------+---------------+--------------+---------------+-----------+---------------+\n",
       "only showing top 20 rows"
      ]
     },
     "execution_count": 3,
     "metadata": {},
     "output_type": "execute_result"
    }
   ],
   "source": [
    "df=spark.read.format(\"json\").load(\"mini.json\")\n",
    "df"
   ]
  },
  {
   "cell_type": "markdown",
   "id": "e9a01642-774b-4058-9daa-9cd6e66c1167",
   "metadata": {},
   "source": [
    "## 2. Clean"
   ]
  },
  {
   "cell_type": "code",
   "execution_count": 4,
   "id": "bca99da7-9d9e-48df-939e-d9a526617fb8",
   "metadata": {},
   "outputs": [
    {
     "data": {
      "text/html": [
       "<table border='1'>\n",
       "<tr><th>storeProvince</th><th>storeID</th><th>receivable</th><th>dateTS</th><th>payType</th></tr>\n",
       "<tr><td>湖南省</td><td>4064</td><td>22.5</td><td>1563758583000</td><td>alipay</td></tr>\n",
       "<tr><td>湖南省</td><td>718</td><td>7.0</td><td>1546737450000</td><td>alipay</td></tr>\n",
       "<tr><td>湖南省</td><td>1786</td><td>10.0</td><td>1546478081000</td><td>cash</td></tr>\n",
       "<tr><td>广东省</td><td>3702</td><td>10.5</td><td>1559133703000</td><td>wechat</td></tr>\n",
       "<tr><td>广西壮族自治区</td><td>1156</td><td>10.0</td><td>1548594458000</td><td>cash</td></tr>\n",
       "<tr><td>广东省</td><td>318</td><td>3.0</td><td>1548292824000</td><td>wechat</td></tr>\n",
       "<tr><td>湖南省</td><td>1699</td><td>6.5</td><td>1545356344000</td><td>cash</td></tr>\n",
       "<tr><td>湖南省</td><td>1167</td><td>17.0</td><td>1547284514000</td><td>alipay</td></tr>\n",
       "<tr><td>湖南省</td><td>3466</td><td>19.0</td><td>1563845059000</td><td>cash</td></tr>\n",
       "<tr><td>广东省</td><td>333</td><td>4.0</td><td>1557231358000</td><td>wechat</td></tr>\n",
       "<tr><td>湖南省</td><td>3354</td><td>22.0</td><td>1560692925000</td><td>cash</td></tr>\n",
       "<tr><td>广东省</td><td>3367</td><td>19.0</td><td>1552019799000</td><td>cash</td></tr>\n",
       "<tr><td>湖南省</td><td>832</td><td>45.0</td><td>1563413959000</td><td>wechat</td></tr>\n",
       "<tr><td>湖南省</td><td>949</td><td>6.0</td><td>1565683992000</td><td>cash</td></tr>\n",
       "<tr><td>广东省</td><td>4213</td><td>22.5</td><td>1561301033000</td><td>cash</td></tr>\n",
       "<tr><td>广东省</td><td>3487</td><td>6.0</td><td>1563104184000</td><td>cash</td></tr>\n",
       "<tr><td>湖南省</td><td>2583</td><td>900.0</td><td>1557558714000</td><td>cash</td></tr>\n",
       "<tr><td>广东省</td><td>3561</td><td>215.0</td><td>1552703028000</td><td>cash</td></tr>\n",
       "<tr><td>湖南省</td><td>1975</td><td>15.0</td><td>1560845929000</td><td>cash</td></tr>\n",
       "<tr><td>广东省</td><td>389</td><td>72.0</td><td>1542464496000</td><td>cash</td></tr>\n",
       "</table>\n",
       "only showing top 20 rows\n"
      ],
      "text/plain": [
       "+--------------+-------+----------+-------------+-------+\n",
       "| storeProvince|storeID|receivable|       dateTS|payType|\n",
       "+--------------+-------+----------+-------------+-------+\n",
       "|        湖南省|   4064|      22.5|1563758583000| alipay|\n",
       "|        湖南省|    718|       7.0|1546737450000| alipay|\n",
       "|        湖南省|   1786|      10.0|1546478081000|   cash|\n",
       "|        广东省|   3702|      10.5|1559133703000| wechat|\n",
       "|广西壮族自治区|   1156|      10.0|1548594458000|   cash|\n",
       "|        广东省|    318|       3.0|1548292824000| wechat|\n",
       "|        湖南省|   1699|       6.5|1545356344000|   cash|\n",
       "|        湖南省|   1167|      17.0|1547284514000| alipay|\n",
       "|        湖南省|   3466|      19.0|1563845059000|   cash|\n",
       "|        广东省|    333|       4.0|1557231358000| wechat|\n",
       "|        湖南省|   3354|      22.0|1560692925000|   cash|\n",
       "|        广东省|   3367|      19.0|1552019799000|   cash|\n",
       "|        湖南省|    832|      45.0|1563413959000| wechat|\n",
       "|        湖南省|    949|       6.0|1565683992000|   cash|\n",
       "|        广东省|   4213|      22.5|1561301033000|   cash|\n",
       "|        广东省|   3487|       6.0|1563104184000|   cash|\n",
       "|        湖南省|   2583|     900.0|1557558714000|   cash|\n",
       "|        广东省|   3561|     215.0|1552703028000|   cash|\n",
       "|        湖南省|   1975|      15.0|1560845929000|   cash|\n",
       "|        广东省|    389|      72.0|1542464496000|   cash|\n",
       "+--------------+-------+----------+-------------+-------+\n",
       "only showing top 20 rows"
      ]
     },
     "execution_count": 4,
     "metadata": {},
     "output_type": "execute_result"
    }
   ],
   "source": [
    "df_clean=df.dropna(thresh=1,subset=[\"storeProvince\"]).\\\n",
    "                filter(\"storeProvince != 'null'\").\\\n",
    "                filter(\"receivable<10000\").\\\n",
    "                select(\"storeProvince\",\"storeID\",\"receivable\",\"dateTS\",\"payType\")\n",
    "df_clean"
   ]
  },
  {
   "cell_type": "markdown",
   "id": "d74760e7-d00e-455e-b7a7-d4e2d04c59a8",
   "metadata": {},
   "source": [
    "## 3. Data manipulaition"
   ]
  },
  {
   "cell_type": "markdown",
   "id": "9c7ca71c-fc0f-47f7-a89a-b985ec3d1d34",
   "metadata": {},
   "source": [
    "### 3.1  Requirement 1: Sales Revenue Statistics by Province"
   ]
  },
  {
   "cell_type": "code",
   "execution_count": 5,
   "id": "59e32d3f-5309-4784-846e-1e5b38cac750",
   "metadata": {},
   "outputs": [
    {
     "data": {
      "text/html": [
       "<table border='1'>\n",
       "<tr><th>storeProvince</th><th>money</th></tr>\n",
       "<tr><td>广东省</td><td>1713207.92</td></tr>\n",
       "<tr><td>湖南省</td><td>1701303.53</td></tr>\n",
       "<tr><td>广西壮族自治区</td><td>37828.22</td></tr>\n",
       "<tr><td>北京市</td><td>10926.91</td></tr>\n",
       "<tr><td>上海市</td><td>7358.5</td></tr>\n",
       "<tr><td>江苏省</td><td>6357.9</td></tr>\n",
       "<tr><td>浙江省</td><td>4568.1</td></tr>\n",
       "<tr><td>山东省</td><td>664.0</td></tr>\n",
       "<tr><td>江西省</td><td>553.5</td></tr>\n",
       "</table>\n"
      ],
      "text/plain": [
       "+--------------+----------+\n",
       "| storeProvince|     money|\n",
       "+--------------+----------+\n",
       "|        广东省|1713207.92|\n",
       "|        湖南省|1701303.53|\n",
       "|广西壮族自治区|  37828.22|\n",
       "|        北京市|  10926.91|\n",
       "|        上海市|    7358.5|\n",
       "|        江苏省|    6357.9|\n",
       "|        浙江省|    4568.1|\n",
       "|        山东省|     664.0|\n",
       "|        江西省|     553.5|\n",
       "+--------------+----------+"
      ]
     },
     "execution_count": 5,
     "metadata": {},
     "output_type": "execute_result"
    }
   ],
   "source": [
    "provicnce_sale=df_clean.groupby(\"storeProvince\").\\\n",
    "    sum(\"receivable\").\\\n",
    "    withColumnRenamed(\"sum(receivable)\", \"money\").\\\n",
    "    withColumn(\"money\",f.round(\"money\",2)).\\\n",
    "    orderBy(\"money\",ascending=False)\n",
    "provicnce_sale"
   ]
  },
  {
   "cell_type": "markdown",
   "id": "1a5ab32b-5b4f-4e97-8f01-2421c3fd8436",
   "metadata": {},
   "source": [
    "TO MySql"
   ]
  },
  {
   "cell_type": "code",
   "execution_count": 6,
   "id": "5dbc8230-e3ab-4050-be9c-04784b66b884",
   "metadata": {},
   "outputs": [],
   "source": [
    "provicnce_sale.write.mode(\"overwrite\").\\\n",
    "    format(\"jdbc\").\\\n",
    "    option(\"url\",\"jdbc:mysql://host.docker.internal:3306/spark_example?useSSl=false\").\\\n",
    "    option(\"dbtable\",\"province_sale\").\\\n",
    "    option(\"user\",\"root\").\\\n",
    "    option(\"password\",\"123456\").\\\n",
    "    option(\"encoding\",\"utf-8\").\\\n",
    "    save()\n"
   ]
  },
  {
   "cell_type": "markdown",
   "id": "a5484efa-7b0a-4bf2-9d90-6a8a6d858a0f",
   "metadata": {},
   "source": [
    "### 3.2 Among the top 3 sales provinces, how many stores have achieved daily sales of over 1000?"
   ]
  },
  {
   "cell_type": "markdown",
   "id": "23298acc-9507-4ed5-a8e1-734cf3875911",
   "metadata": {},
   "source": [
    "#### get top 3 province"
   ]
  },
  {
   "cell_type": "code",
   "execution_count": 7,
   "id": "45949d9e-60bb-4dec-8dc8-add65003bfac",
   "metadata": {},
   "outputs": [
    {
     "data": {
      "text/html": [
       "<table border='1'>\n",
       "<tr><th>storeProvince</th></tr>\n",
       "<tr><td>广东省</td></tr>\n",
       "<tr><td>湖南省</td></tr>\n",
       "<tr><td>广西壮族自治区</td></tr>\n",
       "</table>\n"
      ],
      "text/plain": [
       "+--------------+\n",
       "| storeProvince|\n",
       "+--------------+\n",
       "|        广东省|\n",
       "|        湖南省|\n",
       "|广西壮族自治区|\n",
       "+--------------+"
      ]
     },
     "execution_count": 7,
     "metadata": {},
     "output_type": "execute_result"
    }
   ],
   "source": [
    "top3_df=provicnce_sale.limit(3).select(\"storeProvince\")\n",
    "top3_df"
   ]
  },
  {
   "cell_type": "markdown",
   "id": "5bc8da7a-1f09-4154-8523-9f403152a74d",
   "metadata": {},
   "source": [
    "#### join  df"
   ]
  },
  {
   "cell_type": "code",
   "execution_count": 8,
   "id": "dff4540b-f144-4c79-8b5a-854c7524ccdb",
   "metadata": {},
   "outputs": [
    {
     "data": {
      "text/html": [
       "<table border='1'>\n",
       "<tr><th>storeProvince</th><th>storeID</th><th>receivable</th><th>dateTS</th><th>payType</th></tr>\n",
       "<tr><td>湖南省</td><td>4064</td><td>22.5</td><td>1563758583000</td><td>alipay</td></tr>\n",
       "<tr><td>湖南省</td><td>718</td><td>7.0</td><td>1546737450000</td><td>alipay</td></tr>\n",
       "<tr><td>湖南省</td><td>1786</td><td>10.0</td><td>1546478081000</td><td>cash</td></tr>\n",
       "<tr><td>广东省</td><td>3702</td><td>10.5</td><td>1559133703000</td><td>wechat</td></tr>\n",
       "<tr><td>广西壮族自治区</td><td>1156</td><td>10.0</td><td>1548594458000</td><td>cash</td></tr>\n",
       "<tr><td>广东省</td><td>318</td><td>3.0</td><td>1548292824000</td><td>wechat</td></tr>\n",
       "<tr><td>湖南省</td><td>1699</td><td>6.5</td><td>1545356344000</td><td>cash</td></tr>\n",
       "<tr><td>湖南省</td><td>1167</td><td>17.0</td><td>1547284514000</td><td>alipay</td></tr>\n",
       "<tr><td>湖南省</td><td>3466</td><td>19.0</td><td>1563845059000</td><td>cash</td></tr>\n",
       "<tr><td>广东省</td><td>333</td><td>4.0</td><td>1557231358000</td><td>wechat</td></tr>\n",
       "<tr><td>湖南省</td><td>3354</td><td>22.0</td><td>1560692925000</td><td>cash</td></tr>\n",
       "<tr><td>广东省</td><td>3367</td><td>19.0</td><td>1552019799000</td><td>cash</td></tr>\n",
       "<tr><td>湖南省</td><td>832</td><td>45.0</td><td>1563413959000</td><td>wechat</td></tr>\n",
       "<tr><td>湖南省</td><td>949</td><td>6.0</td><td>1565683992000</td><td>cash</td></tr>\n",
       "<tr><td>广东省</td><td>4213</td><td>22.5</td><td>1561301033000</td><td>cash</td></tr>\n",
       "<tr><td>广东省</td><td>3487</td><td>6.0</td><td>1563104184000</td><td>cash</td></tr>\n",
       "<tr><td>湖南省</td><td>2583</td><td>900.0</td><td>1557558714000</td><td>cash</td></tr>\n",
       "<tr><td>广东省</td><td>3561</td><td>215.0</td><td>1552703028000</td><td>cash</td></tr>\n",
       "<tr><td>湖南省</td><td>1975</td><td>15.0</td><td>1560845929000</td><td>cash</td></tr>\n",
       "<tr><td>广东省</td><td>389</td><td>72.0</td><td>1542464496000</td><td>cash</td></tr>\n",
       "</table>\n",
       "only showing top 20 rows\n"
      ],
      "text/plain": [
       "+--------------+-------+----------+-------------+-------+\n",
       "| storeProvince|storeID|receivable|       dateTS|payType|\n",
       "+--------------+-------+----------+-------------+-------+\n",
       "|        湖南省|   4064|      22.5|1563758583000| alipay|\n",
       "|        湖南省|    718|       7.0|1546737450000| alipay|\n",
       "|        湖南省|   1786|      10.0|1546478081000|   cash|\n",
       "|        广东省|   3702|      10.5|1559133703000| wechat|\n",
       "|广西壮族自治区|   1156|      10.0|1548594458000|   cash|\n",
       "|        广东省|    318|       3.0|1548292824000| wechat|\n",
       "|        湖南省|   1699|       6.5|1545356344000|   cash|\n",
       "|        湖南省|   1167|      17.0|1547284514000| alipay|\n",
       "|        湖南省|   3466|      19.0|1563845059000|   cash|\n",
       "|        广东省|    333|       4.0|1557231358000| wechat|\n",
       "|        湖南省|   3354|      22.0|1560692925000|   cash|\n",
       "|        广东省|   3367|      19.0|1552019799000|   cash|\n",
       "|        湖南省|    832|      45.0|1563413959000| wechat|\n",
       "|        湖南省|    949|       6.0|1565683992000|   cash|\n",
       "|        广东省|   4213|      22.5|1561301033000|   cash|\n",
       "|        广东省|   3487|       6.0|1563104184000|   cash|\n",
       "|        湖南省|   2583|     900.0|1557558714000|   cash|\n",
       "|        广东省|   3561|     215.0|1552703028000|   cash|\n",
       "|        湖南省|   1975|      15.0|1560845929000|   cash|\n",
       "|        广东省|    389|      72.0|1542464496000|   cash|\n",
       "+--------------+-------+----------+-------------+-------+\n",
       "only showing top 20 rows"
      ]
     },
     "execution_count": 8,
     "metadata": {},
     "output_type": "execute_result"
    }
   ],
   "source": [
    "top3_joined=df_clean.join(top3_df, on=df_clean[\"storeProvince\"]==top3_df[\"storeProvince\"]).select(df_clean[\"*\"])\n",
    "top3_joined"
   ]
  },
  {
   "cell_type": "markdown",
   "id": "5858c673-7883-41a0-9e23-62d0e25ab8f7",
   "metadata": {},
   "source": [
    "#### set date formate"
   ]
  },
  {
   "cell_type": "code",
   "execution_count": 9,
   "id": "ce7a042b-3945-4a0d-b8c5-31ef61253ddb",
   "metadata": {},
   "outputs": [
    {
     "data": {
      "text/html": [
       "<table border='1'>\n",
       "<tr><th>storeProvince</th><th>storeID</th><th>receivable</th><th>dateTS</th><th>payType</th></tr>\n",
       "<tr><td>湖南省</td><td>4064</td><td>22.5</td><td>2019-07-22</td><td>alipay</td></tr>\n",
       "<tr><td>湖南省</td><td>718</td><td>7.0</td><td>2019-01-06</td><td>alipay</td></tr>\n",
       "<tr><td>湖南省</td><td>1786</td><td>10.0</td><td>2019-01-03</td><td>cash</td></tr>\n",
       "<tr><td>广东省</td><td>3702</td><td>10.5</td><td>2019-05-29</td><td>wechat</td></tr>\n",
       "<tr><td>广西壮族自治区</td><td>1156</td><td>10.0</td><td>2019-01-27</td><td>cash</td></tr>\n",
       "<tr><td>广东省</td><td>318</td><td>3.0</td><td>2019-01-24</td><td>wechat</td></tr>\n",
       "<tr><td>湖南省</td><td>1699</td><td>6.5</td><td>2018-12-21</td><td>cash</td></tr>\n",
       "<tr><td>湖南省</td><td>1167</td><td>17.0</td><td>2019-01-12</td><td>alipay</td></tr>\n",
       "<tr><td>湖南省</td><td>3466</td><td>19.0</td><td>2019-07-23</td><td>cash</td></tr>\n",
       "<tr><td>广东省</td><td>333</td><td>4.0</td><td>2019-05-07</td><td>wechat</td></tr>\n",
       "<tr><td>湖南省</td><td>3354</td><td>22.0</td><td>2019-06-16</td><td>cash</td></tr>\n",
       "<tr><td>广东省</td><td>3367</td><td>19.0</td><td>2019-03-08</td><td>cash</td></tr>\n",
       "<tr><td>湖南省</td><td>832</td><td>45.0</td><td>2019-07-18</td><td>wechat</td></tr>\n",
       "<tr><td>湖南省</td><td>949</td><td>6.0</td><td>2019-08-13</td><td>cash</td></tr>\n",
       "<tr><td>广东省</td><td>4213</td><td>22.5</td><td>2019-06-23</td><td>cash</td></tr>\n",
       "<tr><td>广东省</td><td>3487</td><td>6.0</td><td>2019-07-14</td><td>cash</td></tr>\n",
       "<tr><td>湖南省</td><td>2583</td><td>900.0</td><td>2019-05-11</td><td>cash</td></tr>\n",
       "<tr><td>广东省</td><td>3561</td><td>215.0</td><td>2019-03-16</td><td>cash</td></tr>\n",
       "<tr><td>湖南省</td><td>1975</td><td>15.0</td><td>2019-06-18</td><td>cash</td></tr>\n",
       "<tr><td>广东省</td><td>389</td><td>72.0</td><td>2018-11-17</td><td>cash</td></tr>\n",
       "</table>\n",
       "only showing top 20 rows\n"
      ],
      "text/plain": [
       "+--------------+-------+----------+----------+-------+\n",
       "| storeProvince|storeID|receivable|    dateTS|payType|\n",
       "+--------------+-------+----------+----------+-------+\n",
       "|        湖南省|   4064|      22.5|2019-07-22| alipay|\n",
       "|        湖南省|    718|       7.0|2019-01-06| alipay|\n",
       "|        湖南省|   1786|      10.0|2019-01-03|   cash|\n",
       "|        广东省|   3702|      10.5|2019-05-29| wechat|\n",
       "|广西壮族自治区|   1156|      10.0|2019-01-27|   cash|\n",
       "|        广东省|    318|       3.0|2019-01-24| wechat|\n",
       "|        湖南省|   1699|       6.5|2018-12-21|   cash|\n",
       "|        湖南省|   1167|      17.0|2019-01-12| alipay|\n",
       "|        湖南省|   3466|      19.0|2019-07-23|   cash|\n",
       "|        广东省|    333|       4.0|2019-05-07| wechat|\n",
       "|        湖南省|   3354|      22.0|2019-06-16|   cash|\n",
       "|        广东省|   3367|      19.0|2019-03-08|   cash|\n",
       "|        湖南省|    832|      45.0|2019-07-18| wechat|\n",
       "|        湖南省|    949|       6.0|2019-08-13|   cash|\n",
       "|        广东省|   4213|      22.5|2019-06-23|   cash|\n",
       "|        广东省|   3487|       6.0|2019-07-14|   cash|\n",
       "|        湖南省|   2583|     900.0|2019-05-11|   cash|\n",
       "|        广东省|   3561|     215.0|2019-03-16|   cash|\n",
       "|        湖南省|   1975|      15.0|2019-06-18|   cash|\n",
       "|        广东省|    389|      72.0|2018-11-17|   cash|\n",
       "+--------------+-------+----------+----------+-------+\n",
       "only showing top 20 rows"
      ]
     },
     "execution_count": 9,
     "metadata": {},
     "output_type": "execute_result"
    }
   ],
   "source": [
    "top3_joined_date=top3_joined.withColumn(\"dateTS\",f.from_unixtime(top3_joined[\"dateTS\"].substr(0,10),\"yyyy-MM-dd\"))\n",
    "top3_joined_date"
   ]
  },
  {
   "cell_type": "markdown",
   "id": "5713ef42-14d4-4be7-acae-ad4d3b280acb",
   "metadata": {},
   "source": [
    "#### get daily sum"
   ]
  },
  {
   "cell_type": "code",
   "execution_count": 10,
   "id": "2c036108-2759-4d08-8d0f-616015c96271",
   "metadata": {},
   "outputs": [
    {
     "data": {
      "text/html": [
       "<table border='1'>\n",
       "<tr><th>storeProvince</th><th>storeID</th><th>dateTS</th><th>day_sale</th></tr>\n",
       "<tr><td>广东省</td><td>1286</td><td>2019-01-02</td><td>4.0</td></tr>\n",
       "<tr><td>广东省</td><td>2520</td><td>2019-01-01</td><td>25.0</td></tr>\n",
       "<tr><td>湖南省</td><td>2401</td><td>2019-05-14</td><td>119.0</td></tr>\n",
       "<tr><td>湖南省</td><td>1988</td><td>2019-05-28</td><td>27.0</td></tr>\n",
       "<tr><td>湖南省</td><td>1644</td><td>2018-11-22</td><td>96.0</td></tr>\n",
       "<tr><td>湖南省</td><td>1187</td><td>2019-01-28</td><td>16.0</td></tr>\n",
       "<tr><td>湖南省</td><td>2939</td><td>2018-12-12</td><td>20.0</td></tr>\n",
       "<tr><td>湖南省</td><td>3352</td><td>2019-03-10</td><td>15.0</td></tr>\n",
       "<tr><td>广东省</td><td>4019</td><td>2019-05-10</td><td>6.5</td></tr>\n",
       "<tr><td>湖南省</td><td>1257</td><td>2019-01-01</td><td>58.0</td></tr>\n",
       "<tr><td>湖南省</td><td>2347</td><td>2019-01-26</td><td>104.5</td></tr>\n",
       "<tr><td>湖南省</td><td>2347</td><td>2019-06-30</td><td>59.5</td></tr>\n",
       "<tr><td>广东省</td><td>3211</td><td>2018-12-30</td><td>55.0</td></tr>\n",
       "<tr><td>湖南省</td><td>1541</td><td>2019-07-05</td><td>20.0</td></tr>\n",
       "<tr><td>湖南省</td><td>3351</td><td>2019-05-20</td><td>88.5</td></tr>\n",
       "<tr><td>湖南省</td><td>1794</td><td>2018-12-15</td><td>400.0</td></tr>\n",
       "<tr><td>广东省</td><td>1455</td><td>2018-11-26</td><td>16.0</td></tr>\n",
       "<tr><td>湖南省</td><td>1009</td><td>2019-01-29</td><td>43.5</td></tr>\n",
       "<tr><td>广东省</td><td>3299</td><td>2019-06-15</td><td>27.0</td></tr>\n",
       "<tr><td>湖南省</td><td>2401</td><td>2019-03-23</td><td>34.0</td></tr>\n",
       "</table>\n",
       "only showing top 20 rows\n"
      ],
      "text/plain": [
       "+-------------+-------+----------+--------+\n",
       "|storeProvince|storeID|    dateTS|day_sale|\n",
       "+-------------+-------+----------+--------+\n",
       "|       广东省|   1286|2019-01-02|     4.0|\n",
       "|       广东省|   2520|2019-01-01|    25.0|\n",
       "|       湖南省|   2401|2019-05-14|   119.0|\n",
       "|       湖南省|   1988|2019-05-28|    27.0|\n",
       "|       湖南省|   1644|2018-11-22|    96.0|\n",
       "|       湖南省|   1187|2019-01-28|    16.0|\n",
       "|       湖南省|   2939|2018-12-12|    20.0|\n",
       "|       湖南省|   3352|2019-03-10|    15.0|\n",
       "|       广东省|   4019|2019-05-10|     6.5|\n",
       "|       湖南省|   1257|2019-01-01|    58.0|\n",
       "|       湖南省|   2347|2019-01-26|   104.5|\n",
       "|       湖南省|   2347|2019-06-30|    59.5|\n",
       "|       广东省|   3211|2018-12-30|    55.0|\n",
       "|       湖南省|   1541|2019-07-05|    20.0|\n",
       "|       湖南省|   3351|2019-05-20|    88.5|\n",
       "|       湖南省|   1794|2018-12-15|   400.0|\n",
       "|       广东省|   1455|2018-11-26|    16.0|\n",
       "|       湖南省|   1009|2019-01-29|    43.5|\n",
       "|       广东省|   3299|2019-06-15|    27.0|\n",
       "|       湖南省|   2401|2019-03-23|    34.0|\n",
       "+-------------+-------+----------+--------+\n",
       "only showing top 20 rows"
      ]
     },
     "execution_count": 10,
     "metadata": {},
     "output_type": "execute_result"
    }
   ],
   "source": [
    "sum_df=top3_joined_date.groupby(\"storeProvince\",\"storeID\",\"dateTS\").sum(\"receivable\").withColumnRenamed(\"sum(receivable)\",\"day_sale\")\n",
    "sum_df"
   ]
  },
  {
   "cell_type": "markdown",
   "id": "e8615583-8370-4caa-afed-4e2ea6e6b0ff",
   "metadata": {},
   "source": [
    "#### filter"
   ]
  },
  {
   "cell_type": "code",
   "execution_count": 11,
   "id": "8a5a4f62-de3d-485f-ab8b-2ce910b09753",
   "metadata": {},
   "outputs": [
    {
     "data": {
      "text/html": [
       "<table border='1'>\n",
       "<tr><th>storeProvince</th><th>storeID</th><th>dateTS</th><th>day_sale</th></tr>\n",
       "<tr><td>广东省</td><td>4205</td><td>2019-07-15</td><td>6395.0</td></tr>\n",
       "<tr><td>广东省</td><td>4152</td><td>2019-08-10</td><td>1939.0</td></tr>\n",
       "<tr><td>广东省</td><td>4111</td><td>2019-05-24</td><td>1150.0</td></tr>\n",
       "<tr><td>广东省</td><td>4051</td><td>2019-06-01</td><td>1040.0</td></tr>\n",
       "<tr><td>广东省</td><td>3975</td><td>2019-08-23</td><td>1050.0</td></tr>\n",
       "<tr><td>广东省</td><td>3903</td><td>2019-06-08</td><td>1400.0</td></tr>\n",
       "<tr><td>广东省</td><td>3899</td><td>2019-04-23</td><td>2670.0</td></tr>\n",
       "<tr><td>广东省</td><td>3862</td><td>2019-08-01</td><td>1035.0</td></tr>\n",
       "<tr><td>广东省</td><td>3848</td><td>2019-04-12</td><td>3871.0</td></tr>\n",
       "<tr><td>广东省</td><td>3811</td><td>2019-05-08</td><td>1652.0</td></tr>\n",
       "<tr><td>广东省</td><td>3764</td><td>2019-04-09</td><td>1480.0</td></tr>\n",
       "<tr><td>广东省</td><td>3752</td><td>2019-04-25</td><td>1153.0</td></tr>\n",
       "<tr><td>广东省</td><td>3737</td><td>2019-05-17</td><td>1649.5</td></tr>\n",
       "<tr><td>广东省</td><td>3737</td><td>2019-06-04</td><td>2319.0</td></tr>\n",
       "<tr><td>广东省</td><td>3737</td><td>2019-07-07</td><td>1986.5</td></tr>\n",
       "<tr><td>广东省</td><td>3737</td><td>2019-04-21</td><td>2212.0</td></tr>\n",
       "<tr><td>广东省</td><td>3737</td><td>2019-05-15</td><td>3797.0</td></tr>\n",
       "<tr><td>广东省</td><td>3737</td><td>2019-07-21</td><td>3865.0</td></tr>\n",
       "<tr><td>广东省</td><td>3737</td><td>2019-04-09</td><td>1589.0</td></tr>\n",
       "<tr><td>广东省</td><td>3737</td><td>2019-04-24</td><td>3501.0</td></tr>\n",
       "</table>\n",
       "only showing top 20 rows\n"
      ],
      "text/plain": [
       "+-------------+-------+----------+--------+\n",
       "|storeProvince|storeID|    dateTS|day_sale|\n",
       "+-------------+-------+----------+--------+\n",
       "|       广东省|   4205|2019-07-15|  6395.0|\n",
       "|       广东省|   4152|2019-08-10|  1939.0|\n",
       "|       广东省|   4111|2019-05-24|  1150.0|\n",
       "|       广东省|   4051|2019-06-01|  1040.0|\n",
       "|       广东省|   3975|2019-08-23|  1050.0|\n",
       "|       广东省|   3903|2019-06-08|  1400.0|\n",
       "|       广东省|   3899|2019-04-23|  2670.0|\n",
       "|       广东省|   3862|2019-08-01|  1035.0|\n",
       "|       广东省|   3848|2019-04-12|  3871.0|\n",
       "|       广东省|   3811|2019-05-08|  1652.0|\n",
       "|       广东省|   3764|2019-04-09|  1480.0|\n",
       "|       广东省|   3752|2019-04-25|  1153.0|\n",
       "|       广东省|   3737|2019-05-17|  1649.5|\n",
       "|       广东省|   3737|2019-06-04|  2319.0|\n",
       "|       广东省|   3737|2019-07-07|  1986.5|\n",
       "|       广东省|   3737|2019-04-21|  2212.0|\n",
       "|       广东省|   3737|2019-05-15|  3797.0|\n",
       "|       广东省|   3737|2019-07-21|  3865.0|\n",
       "|       广东省|   3737|2019-04-09|  1589.0|\n",
       "|       广东省|   3737|2019-04-24|  3501.0|\n",
       "+-------------+-------+----------+--------+\n",
       "only showing top 20 rows"
      ]
     },
     "execution_count": 11,
     "metadata": {},
     "output_type": "execute_result"
    }
   ],
   "source": [
    "res_df=sum_df.filter(\"day_sale>=1000\").orderBy(\"storeID\",ascending=False)\n",
    "res_df"
   ]
  },
  {
   "cell_type": "markdown",
   "id": "31602f1d-1153-43f7-9048-996e540f01cb",
   "metadata": {},
   "source": [
    "#### remove duplicates"
   ]
  },
  {
   "cell_type": "code",
   "execution_count": 12,
   "id": "41a761e8-1ea7-482b-a733-ba63a279b3d0",
   "metadata": {},
   "outputs": [
    {
     "data": {
      "text/html": [
       "<table border='1'>\n",
       "<tr><th>storeProvince</th><th>storeID</th><th>dateTS</th><th>day_sale</th></tr>\n",
       "<tr><td>广东省</td><td>277</td><td>2019-03-05</td><td>1520.0</td></tr>\n",
       "<tr><td>广东省</td><td>301</td><td>2019-04-09</td><td>1111.0</td></tr>\n",
       "<tr><td>广东省</td><td>355</td><td>2019-04-06</td><td>1257.0</td></tr>\n",
       "<tr><td>广东省</td><td>376</td><td>2019-04-29</td><td>1199.0</td></tr>\n",
       "<tr><td>广东省</td><td>384</td><td>2018-12-27</td><td>2296.0</td></tr>\n",
       "<tr><td>广东省</td><td>389</td><td>2019-08-19</td><td>1017.0</td></tr>\n",
       "<tr><td>广东省</td><td>407</td><td>2019-01-25</td><td>4568.5</td></tr>\n",
       "<tr><td>广东省</td><td>520</td><td>2019-06-02</td><td>1753.0</td></tr>\n",
       "<tr><td>广东省</td><td>562</td><td>2019-08-04</td><td>1000.0</td></tr>\n",
       "<tr><td>广东省</td><td>571</td><td>2019-01-31</td><td>3927.0</td></tr>\n",
       "<tr><td>广东省</td><td>576</td><td>2019-01-14</td><td>2492.0</td></tr>\n",
       "<tr><td>广东省</td><td>578</td><td>2018-11-20</td><td>1025.0</td></tr>\n",
       "<tr><td>广东省</td><td>601</td><td>2019-08-13</td><td>2239.64</td></tr>\n",
       "<tr><td>湖南省</td><td>622</td><td>2019-03-15</td><td>1032.5</td></tr>\n",
       "<tr><td>湖南省</td><td>627</td><td>2019-02-03</td><td>3040.0</td></tr>\n",
       "<tr><td>湖南省</td><td>631</td><td>2019-01-11</td><td>1017.5</td></tr>\n",
       "<tr><td>湖南省</td><td>638</td><td>2019-02-16</td><td>2080.0</td></tr>\n",
       "<tr><td>湖南省</td><td>642</td><td>2018-11-27</td><td>1295.0</td></tr>\n",
       "<tr><td>湖南省</td><td>643</td><td>2018-12-29</td><td>1040.0</td></tr>\n",
       "<tr><td>湖南省</td><td>645</td><td>2019-08-15</td><td>1334.0</td></tr>\n",
       "</table>\n",
       "only showing top 20 rows\n"
      ],
      "text/plain": [
       "+-------------+-------+----------+--------+\n",
       "|storeProvince|storeID|    dateTS|day_sale|\n",
       "+-------------+-------+----------+--------+\n",
       "|       广东省|    277|2019-03-05|  1520.0|\n",
       "|       广东省|    301|2019-04-09|  1111.0|\n",
       "|       广东省|    355|2019-04-06|  1257.0|\n",
       "|       广东省|    376|2019-04-29|  1199.0|\n",
       "|       广东省|    384|2018-12-27|  2296.0|\n",
       "|       广东省|    389|2019-08-19|  1017.0|\n",
       "|       广东省|    407|2019-01-25|  4568.5|\n",
       "|       广东省|    520|2019-06-02|  1753.0|\n",
       "|       广东省|    562|2019-08-04|  1000.0|\n",
       "|       广东省|    571|2019-01-31|  3927.0|\n",
       "|       广东省|    576|2019-01-14|  2492.0|\n",
       "|       广东省|    578|2018-11-20|  1025.0|\n",
       "|       广东省|    601|2019-08-13| 2239.64|\n",
       "|       湖南省|    622|2019-03-15|  1032.5|\n",
       "|       湖南省|    627|2019-02-03|  3040.0|\n",
       "|       湖南省|    631|2019-01-11|  1017.5|\n",
       "|       湖南省|    638|2019-02-16|  2080.0|\n",
       "|       湖南省|    642|2018-11-27|  1295.0|\n",
       "|       湖南省|    643|2018-12-29|  1040.0|\n",
       "|       湖南省|    645|2019-08-15|  1334.0|\n",
       "+-------------+-------+----------+--------+\n",
       "only showing top 20 rows"
      ]
     },
     "execution_count": 12,
     "metadata": {},
     "output_type": "execute_result"
    }
   ],
   "source": [
    "remove_df=res_df.dropDuplicates(subset=[\"storeProvince\",\"storeID\"]).orderBy(\"storeID\")\n",
    "remove_df"
   ]
  },
  {
   "cell_type": "markdown",
   "id": "7cb490bb-8803-4821-bb0d-a06034b77af7",
   "metadata": {},
   "source": [
    "#### final group"
   ]
  },
  {
   "cell_type": "code",
   "execution_count": 13,
   "id": "4c315f4b-883f-4995-bc40-076723ca45b2",
   "metadata": {},
   "outputs": [
    {
     "data": {
      "text/html": [
       "<table border='1'>\n",
       "<tr><th>storeProvince</th><th>count</th></tr>\n",
       "<tr><td>广西壮族自治区</td><td>3</td></tr>\n",
       "<tr><td>湖南省</td><td>108</td></tr>\n",
       "<tr><td>广东省</td><td>108</td></tr>\n",
       "</table>\n"
      ],
      "text/plain": [
       "+--------------+-----+\n",
       "| storeProvince|count|\n",
       "+--------------+-----+\n",
       "|广西壮族自治区|    3|\n",
       "|        湖南省|  108|\n",
       "|        广东省|  108|\n",
       "+--------------+-----+"
      ]
     },
     "execution_count": 13,
     "metadata": {},
     "output_type": "execute_result"
    }
   ],
   "source": [
    "top3_province_with_1000_sale_stores=remove_df.groupby(\"storeProvince\").count()\n",
    "top3_province_with_1000_sale_stores"
   ]
  },
  {
   "cell_type": "code",
   "execution_count": 14,
   "id": "1cf27433-17e1-4355-945c-f4302a557643",
   "metadata": {},
   "outputs": [],
   "source": [
    "top3_province_with_1000_sale_stores.write.mode(\"overwrite\").\\\n",
    "    format(\"jdbc\").\\\n",
    "    option(\"url\",\"jdbc:mysql://host.docker.internal:3306/spark_example?useSSl=false\").\\\n",
    "    option(\"dbtable\",\"top3_province_with_1000_sale_stores\").\\\n",
    "    option(\"user\",\"root\").\\\n",
    "    option(\"password\",\"123456\").\\\n",
    "    option(\"encoding\",\"utf-8\").\\\n",
    "    save()"
   ]
  },
  {
   "cell_type": "markdown",
   "id": "2f19e92b-0935-4132-943a-ade8bbfd66af",
   "metadata": {},
   "source": [
    "### 3.3 Among the top 3 sales provinces, mean value of  order value"
   ]
  },
  {
   "cell_type": "code",
   "execution_count": 20,
   "id": "57aa6d6f-48ed-49aa-9298-f285e5903bb2",
   "metadata": {},
   "outputs": [
    {
     "data": {
      "text/html": [
       "<table border='1'>\n",
       "<tr><th>storeProvince</th><th>avg_order</th></tr>\n",
       "<tr><td>广东省</td><td>32.81</td></tr>\n",
       "<tr><td>湖南省</td><td>36.86</td></tr>\n",
       "<tr><td>广西壮族自治区</td><td>40.03</td></tr>\n",
       "</table>\n"
      ],
      "text/plain": [
       "+--------------+---------+\n",
       "| storeProvince|avg_order|\n",
       "+--------------+---------+\n",
       "|        广东省|    32.81|\n",
       "|        湖南省|    36.86|\n",
       "|广西壮族自治区|    40.03|\n",
       "+--------------+---------+"
      ]
     },
     "execution_count": 20,
     "metadata": {},
     "output_type": "execute_result"
    }
   ],
   "source": [
    "top3_avg_order=top3_joined_date.groupBy(\"storeProvince\")\\\n",
    "    .avg(\"receivable\")\\\n",
    "    .withColumnRenamed(\"avg(receivable)\",\"avg_order\")\\\n",
    "    .withColumn(\"avg_order\",f.round(\"avg_order\",2))\\\n",
    "    .orderBy(\"avg_order\")\n",
    "top3_avg_order"
   ]
  },
  {
   "cell_type": "markdown",
   "id": "dcc33407-af17-4ed2-a0f2-f64f5cbbd0e7",
   "metadata": {},
   "source": [
    "### 3.4 Among the top 3 sales provinces, payment method ratio"
   ]
  },
  {
   "cell_type": "code",
   "execution_count": 25,
   "id": "4abc8090-2928-47b8-aa74-f0d3e1e9923d",
   "metadata": {},
   "outputs": [
    {
     "data": {
      "text/html": [
       "<table border='1'>\n",
       "<tr><th>storeProvince</th><th>payType</th></tr>\n",
       "<tr><td>湖南省</td><td>alipay</td></tr>\n",
       "<tr><td>湖南省</td><td>alipay</td></tr>\n",
       "<tr><td>湖南省</td><td>cash</td></tr>\n",
       "<tr><td>广东省</td><td>wechat</td></tr>\n",
       "<tr><td>广西壮族自治区</td><td>cash</td></tr>\n",
       "<tr><td>广东省</td><td>wechat</td></tr>\n",
       "<tr><td>湖南省</td><td>cash</td></tr>\n",
       "<tr><td>湖南省</td><td>alipay</td></tr>\n",
       "<tr><td>湖南省</td><td>cash</td></tr>\n",
       "<tr><td>广东省</td><td>wechat</td></tr>\n",
       "<tr><td>湖南省</td><td>cash</td></tr>\n",
       "<tr><td>广东省</td><td>cash</td></tr>\n",
       "<tr><td>湖南省</td><td>wechat</td></tr>\n",
       "<tr><td>湖南省</td><td>cash</td></tr>\n",
       "<tr><td>广东省</td><td>cash</td></tr>\n",
       "<tr><td>广东省</td><td>cash</td></tr>\n",
       "<tr><td>湖南省</td><td>cash</td></tr>\n",
       "<tr><td>广东省</td><td>cash</td></tr>\n",
       "<tr><td>湖南省</td><td>cash</td></tr>\n",
       "<tr><td>广东省</td><td>cash</td></tr>\n",
       "</table>\n",
       "only showing top 20 rows\n"
      ],
      "text/plain": [
       "+--------------+-------+\n",
       "| storeProvince|payType|\n",
       "+--------------+-------+\n",
       "|        湖南省| alipay|\n",
       "|        湖南省| alipay|\n",
       "|        湖南省|   cash|\n",
       "|        广东省| wechat|\n",
       "|广西壮族自治区|   cash|\n",
       "|        广东省| wechat|\n",
       "|        湖南省|   cash|\n",
       "|        湖南省| alipay|\n",
       "|        湖南省|   cash|\n",
       "|        广东省| wechat|\n",
       "|        湖南省|   cash|\n",
       "|        广东省|   cash|\n",
       "|        湖南省| wechat|\n",
       "|        湖南省|   cash|\n",
       "|        广东省|   cash|\n",
       "|        广东省|   cash|\n",
       "|        湖南省|   cash|\n",
       "|        广东省|   cash|\n",
       "|        湖南省|   cash|\n",
       "|        广东省|   cash|\n",
       "+--------------+-------+\n",
       "only showing top 20 rows"
      ]
     },
     "execution_count": 25,
     "metadata": {},
     "output_type": "execute_result"
    }
   ],
   "source": [
    "select_df=top3_joined_date.select(\"storeProvince\",\"payType\")\n",
    "select_df"
   ]
  },
  {
   "cell_type": "code",
   "execution_count": 27,
   "id": "e79a7947-1bbb-42f8-88f7-8d517ead644f",
   "metadata": {},
   "outputs": [],
   "source": [
    "select_df.createOrReplaceTempView(\"table\")"
   ]
  },
  {
   "cell_type": "code",
   "execution_count": 34,
   "id": "be9839aa-480b-44b1-a1b0-3620ecb5339f",
   "metadata": {},
   "outputs": [],
   "source": [
    "def udf(num):\n",
    "    return  str(round(num,2)%100)+\"%\""
   ]
  },
  {
   "cell_type": "code",
   "execution_count": 35,
   "id": "b9b9af8a-5d96-4833-8c74-f6ebcad5aebc",
   "metadata": {},
   "outputs": [
    {
     "data": {
      "text/plain": [
       "<function __main__.udf(num)>"
      ]
     },
     "execution_count": 35,
     "metadata": {},
     "output_type": "execute_result"
    }
   ],
   "source": [
    "spark.udf.register(\"percent\",udf)"
   ]
  },
  {
   "cell_type": "code",
   "execution_count": 38,
   "id": "9225f735-3444-4eec-91f4-9576b35d1ddb",
   "metadata": {},
   "outputs": [
    {
     "data": {
      "text/html": [
       "<table border='1'>\n",
       "<tr><th>storeProvince</th><th>payType</th><th>ratio</th></tr>\n",
       "<tr><td>广东省</td><td>wechat</td><td>0.39%</td></tr>\n",
       "<tr><td>广东省</td><td>cash</td><td>0.53%</td></tr>\n",
       "<tr><td>广东省</td><td>bankcard</td><td>0.01%</td></tr>\n",
       "<tr><td>广东省</td><td>alipay</td><td>0.07%</td></tr>\n",
       "<tr><td>广西壮族自治区</td><td>cash</td><td>0.73%</td></tr>\n",
       "<tr><td>广西壮族自治区</td><td>wechat</td><td>0.22%</td></tr>\n",
       "<tr><td>广西壮族自治区</td><td>alipay</td><td>0.04%</td></tr>\n",
       "<tr><td>广西壮族自治区</td><td>bankcard</td><td>0.01%</td></tr>\n",
       "<tr><td>湖南省</td><td>alipay</td><td>0.04%</td></tr>\n",
       "<tr><td>湖南省</td><td>cash</td><td>0.71%</td></tr>\n",
       "<tr><td>湖南省</td><td>wechat</td><td>0.25%</td></tr>\n",
       "<tr><td>湖南省</td><td>bankcard</td><td>0.0%</td></tr>\n",
       "</table>\n"
      ],
      "text/plain": [
       "+--------------+--------+-----+\n",
       "| storeProvince| payType|ratio|\n",
       "+--------------+--------+-----+\n",
       "|        广东省|  wechat|0.39%|\n",
       "|        广东省|    cash|0.53%|\n",
       "|        广东省|bankcard|0.01%|\n",
       "|        广东省|  alipay|0.07%|\n",
       "|广西壮族自治区|    cash|0.73%|\n",
       "|广西壮族自治区|  wechat|0.22%|\n",
       "|广西壮族自治区|  alipay|0.04%|\n",
       "|广西壮族自治区|bankcard|0.01%|\n",
       "|        湖南省|  alipay|0.04%|\n",
       "|        湖南省|    cash|0.71%|\n",
       "|        湖南省|  wechat|0.25%|\n",
       "|        湖南省|bankcard| 0.0%|\n",
       "+--------------+--------+-----+"
      ]
     },
     "execution_count": 38,
     "metadata": {},
     "output_type": "execute_result"
    }
   ],
   "source": [
    "fina_df=spark.sql('''\n",
    "    select storeProvince,payType , percent(count(1)/total) as ratio\n",
    "    from (select *, count(1) over(partition by storeProvince) as total from table) as sub\n",
    "    group by storeProvince, payType , total\n",
    "''')\n",
    "fina_df"
   ]
  },
  {
   "cell_type": "code",
   "execution_count": null,
   "id": "34b49770-57f8-48c6-afaa-2f41a6f566e5",
   "metadata": {},
   "outputs": [],
   "source": []
  },
  {
   "cell_type": "code",
   "execution_count": null,
   "id": "87d8cf8d-2175-4e24-a035-e6feae317fe2",
   "metadata": {},
   "outputs": [],
   "source": []
  },
  {
   "cell_type": "code",
   "execution_count": null,
   "id": "9a48c550-294e-4225-8169-127842f78b95",
   "metadata": {},
   "outputs": [],
   "source": []
  }
 ],
 "metadata": {
  "kernelspec": {
   "display_name": "Python 3 (ipykernel)",
   "language": "python",
   "name": "python3"
  },
  "language_info": {
   "codemirror_mode": {
    "name": "ipython",
    "version": 3
   },
   "file_extension": ".py",
   "mimetype": "text/x-python",
   "name": "python",
   "nbconvert_exporter": "python",
   "pygments_lexer": "ipython3",
   "version": "3.11.6"
  }
 },
 "nbformat": 4,
 "nbformat_minor": 5
}
